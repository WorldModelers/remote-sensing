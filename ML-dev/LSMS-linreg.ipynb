{
 "cells": [
  {
   "cell_type": "markdown",
   "metadata": {},
   "source": [
    "# LSMS Linear Regression \n",
    "Predict farm-level yields using vegetation index measures."
   ]
  },
  {
   "cell_type": "code",
   "execution_count": 1,
   "metadata": {},
   "outputs": [
    {
     "name": "stdout",
     "output_type": "stream",
     "text": [
      "Populating the interactive namespace from numpy and matplotlib\n"
     ]
    }
   ],
   "source": [
    "%pylab inline"
   ]
  },
  {
   "cell_type": "code",
   "execution_count": 2,
   "metadata": {},
   "outputs": [],
   "source": [
    "import pandas as pd\n",
    "import numpy as np\n",
    "import statsmodels.api as sm\n",
    "import seaborn as sns; sns.set()\n"
   ]
  },
  {
   "cell_type": "code",
   "execution_count": 3,
   "metadata": {},
   "outputs": [],
   "source": [
    "df1 = pd.read_csv('Feb_Apr_2015_Training_Data.csv')\n",
    "df1['Year'] = '2015'\n",
    "df2 = pd.read_csv('Feb_Apr_2011_Training_Data.csv')\n",
    "df2['Year'] = '2011'\n",
    "df3 = pd.read_csv('Feb_Apr_2013_Training_Data.csv')\n",
    "df3['Year'] = '2013'"
   ]
  },
  {
   "cell_type": "code",
   "execution_count": 4,
   "metadata": {},
   "outputs": [
    {
     "data": {
      "text/plain": [
       "(25496, 20)"
      ]
     },
     "execution_count": 4,
     "metadata": {},
     "output_type": "execute_result"
    }
   ],
   "source": [
    "df1.shape"
   ]
  },
  {
   "cell_type": "code",
   "execution_count": 5,
   "metadata": {},
   "outputs": [
    {
     "data": {
      "text/plain": [
       "(4001, 21)"
      ]
     },
     "execution_count": 5,
     "metadata": {},
     "output_type": "execute_result"
    }
   ],
   "source": [
    "df2.shape"
   ]
  },
  {
   "cell_type": "code",
   "execution_count": 6,
   "metadata": {},
   "outputs": [
    {
     "data": {
      "text/plain": [
       "(26385, 21)"
      ]
     },
     "execution_count": 6,
     "metadata": {},
     "output_type": "execute_result"
    }
   ],
   "source": [
    "df3.shape"
   ]
  },
  {
   "cell_type": "code",
   "execution_count": 7,
   "metadata": {},
   "outputs": [
    {
     "name": "stderr",
     "output_type": "stream",
     "text": [
      "/anaconda3/envs/p37/lib/python3.7/site-packages/pandas/core/frame.py:6692: FutureWarning: Sorting because non-concatenation axis is not aligned. A future version\n",
      "of pandas will change to not sort by default.\n",
      "\n",
      "To accept the future behavior, pass 'sort=False'.\n",
      "\n",
      "To retain the current behavior and silence the warning, pass 'sort=True'.\n",
      "\n",
      "  sort=sort)\n"
     ]
    }
   ],
   "source": [
    "df = df1.append(df2).append(df3)\n",
    "df = df.reset_index()"
   ]
  },
  {
   "cell_type": "code",
   "execution_count": 8,
   "metadata": {},
   "outputs": [
    {
     "data": {
      "text/plain": [
       "True"
      ]
     },
     "execution_count": 8,
     "metadata": {},
     "output_type": "execute_result"
    }
   ],
   "source": [
    "df.shape[0] == df1.shape[0] + df2.shape[0] + df3.shape[0]"
   ]
  },
  {
   "cell_type": "code",
   "execution_count": 9,
   "metadata": {},
   "outputs": [],
   "source": [
    "del(df['.geo'])"
   ]
  },
  {
   "cell_type": "code",
   "execution_count": 10,
   "metadata": {},
   "outputs": [],
   "source": [
    "crops_encoded = pd.get_dummies(pd.DataFrame(df['Crop Name']))\n",
    "year_encoded = pd.get_dummies(pd.DataFrame(df['Year']))"
   ]
  },
  {
   "cell_type": "code",
   "execution_count": 11,
   "metadata": {},
   "outputs": [],
   "source": [
    "crop_cols = list(crops_encoded.columns)"
   ]
  },
  {
   "cell_type": "code",
   "execution_count": 12,
   "metadata": {},
   "outputs": [
    {
     "data": {
      "text/plain": [
       "(55882, 3)"
      ]
     },
     "execution_count": 12,
     "metadata": {},
     "output_type": "execute_result"
    }
   ],
   "source": [
    "year_encoded.shape"
   ]
  },
  {
   "cell_type": "code",
   "execution_count": 13,
   "metadata": {},
   "outputs": [
    {
     "data": {
      "text/plain": [
       "(55882, 21)"
      ]
     },
     "execution_count": 13,
     "metadata": {},
     "output_type": "execute_result"
    }
   ],
   "source": [
    "df.shape"
   ]
  },
  {
   "cell_type": "code",
   "execution_count": 14,
   "metadata": {},
   "outputs": [
    {
     "data": {
      "text/plain": [
       "(55882, 3)"
      ]
     },
     "execution_count": 14,
     "metadata": {},
     "output_type": "execute_result"
    }
   ],
   "source": [
    "year_encoded.shape"
   ]
  },
  {
   "cell_type": "code",
   "execution_count": 15,
   "metadata": {
    "scrolled": true
   },
   "outputs": [],
   "source": [
    "df = df.merge(year_encoded, left_index=True, right_index=True)"
   ]
  },
  {
   "cell_type": "code",
   "execution_count": 16,
   "metadata": {},
   "outputs": [
    {
     "data": {
      "text/plain": [
       "(55882, 24)"
      ]
     },
     "execution_count": 16,
     "metadata": {},
     "output_type": "execute_result"
    }
   ],
   "source": [
    "df.shape"
   ]
  },
  {
   "cell_type": "code",
   "execution_count": 17,
   "metadata": {},
   "outputs": [],
   "source": [
    "def gen_logs(df):\n",
    "    VI_means = [i for i in list(df.columns) if 'mean' in i]\n",
    "\n",
    "    for vi in VI_means:\n",
    "        df[f\"log_{vi}\"] = df[vi].apply(lambda x: np.log(x))\n",
    "    return df"
   ]
  },
  {
   "cell_type": "code",
   "execution_count": 18,
   "metadata": {},
   "outputs": [],
   "source": [
    "df = gen_logs(df)"
   ]
  },
  {
   "cell_type": "code",
   "execution_count": 19,
   "metadata": {},
   "outputs": [],
   "source": [
    "x_2015 = df[df['Year']=='2015']"
   ]
  },
  {
   "cell_type": "code",
   "execution_count": 20,
   "metadata": {},
   "outputs": [],
   "source": [
    "base_x_cols = ['log_NDVI_mean', \n",
    "               'log_mean_EVI', \n",
    "               'log_TVI_mean', \n",
    "               'log_GCVI_mean', \n",
    "               #'EVI_variance', \n",
    "               #'NDVI_variance', \n",
    "               #'TVI_variance', \n",
    "              # 'GCVI_variance',\n",
    "               #'NDVI_mean',\n",
    "               #'EVI_mean',\n",
    "               #'GCVI_mean',\n",
    "               #'TVI_mean',\n",
    "               'Year_2011',\n",
    "               'Year_2013']#,\n",
    "              # 'Year_2015']\n",
    "all_x_cols = base_x_cols + crop_cols\n",
    "y_col = ['Quantity (kg)']"
   ]
  },
  {
   "cell_type": "code",
   "execution_count": 21,
   "metadata": {},
   "outputs": [
    {
     "name": "stdout",
     "output_type": "stream",
     "text": [
      "There are 55882 observations prior to removing NAs\n",
      "There are 51923 observations after removing NAs\n"
     ]
    }
   ],
   "source": [
    "df = df[y_col + base_x_cols]\n",
    "\n",
    "print(f\"There are {df.shape[0]} observations prior to removing NAs\")\n",
    "df = df.dropna()\n",
    "print(f\"There are {df.shape[0]} observations after removing NAs\")\n",
    "\n",
    "y = df[y_col]\n",
    "x = df[base_x_cols]"
   ]
  },
  {
   "cell_type": "code",
   "execution_count": 22,
   "metadata": {},
   "outputs": [
    {
     "data": {
      "text/html": [
       "<div>\n",
       "<style scoped>\n",
       "    .dataframe tbody tr th:only-of-type {\n",
       "        vertical-align: middle;\n",
       "    }\n",
       "\n",
       "    .dataframe tbody tr th {\n",
       "        vertical-align: top;\n",
       "    }\n",
       "\n",
       "    .dataframe thead th {\n",
       "        text-align: right;\n",
       "    }\n",
       "</style>\n",
       "<table border=\"1\" class=\"dataframe\">\n",
       "  <thead>\n",
       "    <tr style=\"text-align: right;\">\n",
       "      <th></th>\n",
       "      <th>Quantity (kg)</th>\n",
       "    </tr>\n",
       "  </thead>\n",
       "  <tbody>\n",
       "    <tr>\n",
       "      <th>count</th>\n",
       "      <td>51923.000000</td>\n",
       "    </tr>\n",
       "    <tr>\n",
       "      <th>mean</th>\n",
       "      <td>89.140684</td>\n",
       "    </tr>\n",
       "    <tr>\n",
       "      <th>std</th>\n",
       "      <td>151.080890</td>\n",
       "    </tr>\n",
       "    <tr>\n",
       "      <th>min</th>\n",
       "      <td>0.000000</td>\n",
       "    </tr>\n",
       "    <tr>\n",
       "      <th>25%</th>\n",
       "      <td>1.742000</td>\n",
       "    </tr>\n",
       "    <tr>\n",
       "      <th>50%</th>\n",
       "      <td>25.000000</td>\n",
       "    </tr>\n",
       "    <tr>\n",
       "      <th>75%</th>\n",
       "      <td>100.000000</td>\n",
       "    </tr>\n",
       "    <tr>\n",
       "      <th>max</th>\n",
       "      <td>1000.000000</td>\n",
       "    </tr>\n",
       "  </tbody>\n",
       "</table>\n",
       "</div>"
      ],
      "text/plain": [
       "       Quantity (kg)\n",
       "count   51923.000000\n",
       "mean       89.140684\n",
       "std       151.080890\n",
       "min         0.000000\n",
       "25%         1.742000\n",
       "50%        25.000000\n",
       "75%       100.000000\n",
       "max      1000.000000"
      ]
     },
     "execution_count": 22,
     "metadata": {},
     "output_type": "execute_result"
    }
   ],
   "source": [
    "y.describe()"
   ]
  },
  {
   "cell_type": "code",
   "execution_count": 23,
   "metadata": {},
   "outputs": [
    {
     "data": {
      "text/html": [
       "<div>\n",
       "<style scoped>\n",
       "    .dataframe tbody tr th:only-of-type {\n",
       "        vertical-align: middle;\n",
       "    }\n",
       "\n",
       "    .dataframe tbody tr th {\n",
       "        vertical-align: top;\n",
       "    }\n",
       "\n",
       "    .dataframe thead th {\n",
       "        text-align: right;\n",
       "    }\n",
       "</style>\n",
       "<table border=\"1\" class=\"dataframe\">\n",
       "  <thead>\n",
       "    <tr style=\"text-align: right;\">\n",
       "      <th></th>\n",
       "      <th>log_NDVI_mean</th>\n",
       "      <th>log_mean_EVI</th>\n",
       "      <th>log_TVI_mean</th>\n",
       "      <th>log_GCVI_mean</th>\n",
       "      <th>Year_2011</th>\n",
       "      <th>Year_2013</th>\n",
       "    </tr>\n",
       "  </thead>\n",
       "  <tbody>\n",
       "    <tr>\n",
       "      <th>count</th>\n",
       "      <td>51923.000000</td>\n",
       "      <td>51923.000000</td>\n",
       "      <td>51923.000000</td>\n",
       "      <td>51923.000000</td>\n",
       "      <td>51923.000000</td>\n",
       "      <td>51923.000000</td>\n",
       "    </tr>\n",
       "    <tr>\n",
       "      <th>mean</th>\n",
       "      <td>-1.005433</td>\n",
       "      <td>-1.372607</td>\n",
       "      <td>1.906998</td>\n",
       "      <td>0.653451</td>\n",
       "      <td>0.068043</td>\n",
       "      <td>0.473432</td>\n",
       "    </tr>\n",
       "    <tr>\n",
       "      <th>std</th>\n",
       "      <td>0.380762</td>\n",
       "      <td>0.468059</td>\n",
       "      <td>0.528648</td>\n",
       "      <td>0.391533</td>\n",
       "      <td>0.251822</td>\n",
       "      <td>0.499298</td>\n",
       "    </tr>\n",
       "    <tr>\n",
       "      <th>min</th>\n",
       "      <td>-2.008290</td>\n",
       "      <td>-2.660215</td>\n",
       "      <td>0.146548</td>\n",
       "      <td>-0.380662</td>\n",
       "      <td>0.000000</td>\n",
       "      <td>0.000000</td>\n",
       "    </tr>\n",
       "    <tr>\n",
       "      <th>25%</th>\n",
       "      <td>-1.303619</td>\n",
       "      <td>-1.731978</td>\n",
       "      <td>1.534433</td>\n",
       "      <td>0.375186</td>\n",
       "      <td>0.000000</td>\n",
       "      <td>0.000000</td>\n",
       "    </tr>\n",
       "    <tr>\n",
       "      <th>50%</th>\n",
       "      <td>-0.985077</td>\n",
       "      <td>-1.307417</td>\n",
       "      <td>1.928399</td>\n",
       "      <td>0.640965</td>\n",
       "      <td>0.000000</td>\n",
       "      <td>0.000000</td>\n",
       "    </tr>\n",
       "    <tr>\n",
       "      <th>75%</th>\n",
       "      <td>-0.748859</td>\n",
       "      <td>-0.978203</td>\n",
       "      <td>2.228897</td>\n",
       "      <td>0.901198</td>\n",
       "      <td>0.000000</td>\n",
       "      <td>1.000000</td>\n",
       "    </tr>\n",
       "    <tr>\n",
       "      <th>max</th>\n",
       "      <td>-0.204386</td>\n",
       "      <td>-0.413984</td>\n",
       "      <td>3.184314</td>\n",
       "      <td>1.765379</td>\n",
       "      <td>1.000000</td>\n",
       "      <td>1.000000</td>\n",
       "    </tr>\n",
       "  </tbody>\n",
       "</table>\n",
       "</div>"
      ],
      "text/plain": [
       "       log_NDVI_mean  log_mean_EVI  log_TVI_mean  log_GCVI_mean     Year_2011  \\\n",
       "count   51923.000000  51923.000000  51923.000000   51923.000000  51923.000000   \n",
       "mean       -1.005433     -1.372607      1.906998       0.653451      0.068043   \n",
       "std         0.380762      0.468059      0.528648       0.391533      0.251822   \n",
       "min        -2.008290     -2.660215      0.146548      -0.380662      0.000000   \n",
       "25%        -1.303619     -1.731978      1.534433       0.375186      0.000000   \n",
       "50%        -0.985077     -1.307417      1.928399       0.640965      0.000000   \n",
       "75%        -0.748859     -0.978203      2.228897       0.901198      0.000000   \n",
       "max        -0.204386     -0.413984      3.184314       1.765379      1.000000   \n",
       "\n",
       "          Year_2013  \n",
       "count  51923.000000  \n",
       "mean       0.473432  \n",
       "std        0.499298  \n",
       "min        0.000000  \n",
       "25%        0.000000  \n",
       "50%        0.000000  \n",
       "75%        1.000000  \n",
       "max        1.000000  "
      ]
     },
     "execution_count": 23,
     "metadata": {},
     "output_type": "execute_result"
    }
   ],
   "source": [
    "x.describe()"
   ]
  },
  {
   "cell_type": "code",
   "execution_count": 24,
   "metadata": {
    "scrolled": false
   },
   "outputs": [
    {
     "name": "stdout",
     "output_type": "stream",
     "text": [
      "                                 OLS Regression Results                                \n",
      "=======================================================================================\n",
      "Dep. Variable:          Quantity (kg)   R-squared (uncentered):                   0.278\n",
      "Model:                            OLS   Adj. R-squared (uncentered):              0.278\n",
      "Method:                 Least Squares   F-statistic:                              3329.\n",
      "Date:                Sat, 05 Oct 2019   Prob (F-statistic):                        0.00\n",
      "Time:                        19:42:05   Log-Likelihood:                     -3.3352e+05\n",
      "No. Observations:               51923   AIC:                                  6.671e+05\n",
      "Df Residuals:                   51917   BIC:                                  6.671e+05\n",
      "Df Model:                           6                                                  \n",
      "Covariance Type:            nonrobust                                                  \n",
      "=================================================================================\n",
      "                    coef    std err          t      P>|t|      [0.025      0.975]\n",
      "---------------------------------------------------------------------------------\n",
      "log_NDVI_mean   -56.3377      3.229    -17.448      0.000     -62.667     -50.009\n",
      "log_mean_EVI     -0.8655      2.628     -0.329      0.742      -6.017       4.286\n",
      "log_TVI_mean     34.9352      2.910     12.003      0.000      29.231      40.640\n",
      "log_GCVI_mean   -41.0416      5.503     -7.458      0.000     -51.827     -30.256\n",
      "Year_2011        17.3642      2.763      6.284      0.000      11.948      22.780\n",
      "Year_2013       -20.5571      1.354    -15.181      0.000     -23.211     -17.903\n",
      "==============================================================================\n",
      "Omnibus:                    31953.135   Durbin-Watson:                   1.236\n",
      "Prob(Omnibus):                  0.000   Jarque-Bera (JB):           309424.641\n",
      "Skew:                           2.912   Prob(JB):                         0.00\n",
      "Kurtosis:                      13.446   Cond. No.                         25.9\n",
      "==============================================================================\n",
      "\n",
      "Warnings:\n",
      "[1] Standard Errors assume that the covariance matrix of the errors is correctly specified.\n"
     ]
    }
   ],
   "source": [
    "mod = sm.OLS(y,x)\n",
    "\n",
    "res = mod.fit()\n",
    "\n",
    "print(res.summary())"
   ]
  },
  {
   "cell_type": "markdown",
   "metadata": {},
   "source": [
    "Total predicted yield in 2015 (for farms):"
   ]
  },
  {
   "cell_type": "code",
   "execution_count": 25,
   "metadata": {},
   "outputs": [
    {
     "data": {
      "text/plain": [
       "89.0837156468011"
      ]
     },
     "execution_count": 25,
     "metadata": {},
     "output_type": "execute_result"
    }
   ],
   "source": [
    "np.nanmean(res.predict(x))"
   ]
  },
  {
   "cell_type": "markdown",
   "metadata": {},
   "source": [
    "Total actual yield in 2015 (for farms):"
   ]
  },
  {
   "cell_type": "code",
   "execution_count": 26,
   "metadata": {},
   "outputs": [
    {
     "data": {
      "text/plain": [
       "4628451.749343321"
      ]
     },
     "execution_count": 26,
     "metadata": {},
     "output_type": "execute_result"
    }
   ],
   "source": [
    "y.sum()['Quantity (kg)']"
   ]
  },
  {
   "cell_type": "markdown",
   "metadata": {},
   "source": [
    "## Predictions"
   ]
  },
  {
   "cell_type": "code",
   "execution_count": 27,
   "metadata": {},
   "outputs": [],
   "source": [
    "\n",
    "x_2015 = x_2015[base_x_cols]\n",
    "\n",
    "df = pd.read_csv('Feb_Apr_2016_Forecast_Data.csv')\n",
    "df['Year_2011'] = 0\n",
    "df['Year_2013'] = 0\n",
    "df = gen_logs(df)\n",
    "x_2016 = df[base_x_cols]\n",
    "\n",
    "df = pd.read_csv('Feb_Apr_2017_Forecast_Data.csv')\n",
    "df['Year_2011'] = 0\n",
    "df['Year_2013'] = 0\n",
    "df = gen_logs(df)\n",
    "x_2017 = df[base_x_cols]\n",
    "\n",
    "df = pd.read_csv('Feb_Apr_2018_Forecast_Data.csv')\n",
    "df['Year_2011'] = 0\n",
    "df['Year_2013'] = 0\n",
    "df = gen_logs(df)\n",
    "x_2018 = df[base_x_cols]"
   ]
  },
  {
   "cell_type": "code",
   "execution_count": 28,
   "metadata": {},
   "outputs": [
    {
     "data": {
      "text/plain": [
       "True"
      ]
     },
     "execution_count": 28,
     "metadata": {},
     "output_type": "execute_result"
    }
   ],
   "source": [
    "x_2015.shape == x_2016.shape == x_2017.shape == x_2018.shape"
   ]
  },
  {
   "cell_type": "code",
   "execution_count": 29,
   "metadata": {},
   "outputs": [],
   "source": [
    "y_15 = np.nanmean(res.predict(x_2015))"
   ]
  },
  {
   "cell_type": "code",
   "execution_count": 30,
   "metadata": {
    "scrolled": true
   },
   "outputs": [],
   "source": [
    "y_16 = np.nanmean(res.predict(x_2016))"
   ]
  },
  {
   "cell_type": "code",
   "execution_count": 31,
   "metadata": {
    "scrolled": true
   },
   "outputs": [],
   "source": [
    "y_17 = np.nanmean(res.predict(x_2017))"
   ]
  },
  {
   "cell_type": "code",
   "execution_count": 32,
   "metadata": {
    "scrolled": true
   },
   "outputs": [],
   "source": [
    "y_18 = np.nanmean(res.predict(x_2018))"
   ]
  },
  {
   "cell_type": "code",
   "execution_count": 33,
   "metadata": {},
   "outputs": [],
   "source": [
    "output = {'Year': [2015, 2016, 2017, 2018], 'Predictions': [y_15, y_16, y_17, y_18]}"
   ]
  },
  {
   "cell_type": "code",
   "execution_count": 34,
   "metadata": {
    "scrolled": false
   },
   "outputs": [
    {
     "data": {
      "image/png": "[encoded data removed]",
      "text/plain": [
       "<Figure size 576x432 with 1 Axes>"
      ]
     },
     "metadata": {},
     "output_type": "display_data"
    }
   ],
   "source": [
    "plt = df.from_dict(output).plot('Year','Predictions', xticks=[2015,2016,2017,2018], figsize=(8,6), title=\"Predicted Mean Yield per Farm (LSMS)\")\n",
    "plt.figure.savefig('Predictions.png',dpi=180)"
   ]
  },
  {
   "cell_type": "code",
   "execution_count": 35,
   "metadata": {},
   "outputs": [],
   "source": [
    "actuals = {'Year': [2015, 2016, 2017, 2018], \n",
    "           'Actuals': [  270396048.03/ 12558444.55   ,\n",
    "                       266828807.04/12486270.87 ,\n",
    "                       290385593.21/12574107.33   ,\n",
    "                       306126383.06/12677882.27 ]}"
   ]
  },
  {
   "cell_type": "code",
   "execution_count": 36,
   "metadata": {
    "scrolled": false
   },
   "outputs": [
    {
     "data": {
      "image/png": "[encoded data removed]",
      "text/plain": [
       "<Figure size 576x432 with 1 Axes>"
      ]
     },
     "metadata": {},
     "output_type": "display_data"
    }
   ],
   "source": [
    "plt = df.from_dict(actuals).plot('Year','Actuals', xticks=[2015,2016,2017,2018], figsize=(8,6), title='Reported Mean Yield per Hectare (CSA)')\n",
    "plt.figure.savefig('Actuals.png',dpi=180)"
   ]
  }
 ],
 "metadata": {
  "kernelspec": {
   "display_name": "Python 3",
   "language": "python",
   "name": "python3"
  },
  "language_info": {
   "codemirror_mode": {
    "name": "ipython",
    "version": 3
   },
   "file_extension": ".py",
   "mimetype": "text/x-python",
   "name": "python",
   "nbconvert_exporter": "python",
   "pygments_lexer": "ipython3",
   "version": "3.7.3"
  }
 },
 "nbformat": 4,
 "nbformat_minor": 2
}
