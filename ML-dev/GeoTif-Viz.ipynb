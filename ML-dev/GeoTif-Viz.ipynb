{
 "cells": [
  {
   "cell_type": "code",
   "execution_count": 1,
   "metadata": {},
   "outputs": [],
   "source": [
    "import rasterio as rio\n",
    "import rasterio\n",
    "import rasterio.mask\n",
    "from rasterio.plot import plotting_extent\n",
    "import numpy as np\n",
    "import matplotlib.pyplot as plt\n",
    "from matplotlib.patches import Patch\n",
    "from matplotlib.colors import ListedColormap\n",
    "import matplotlib.colors as colors\n",
    "import os\n",
    "import seaborn as sns\n",
    "import fiona\n",
    "import json"
   ]
  },
  {
   "cell_type": "code",
   "execution_count": 2,
   "metadata": {},
   "outputs": [],
   "source": [
    "with fiona.open(\"../ethiopia_shapefiles/gadm36_ETH_3.shp\", \"r\") as shapefile:\n",
    "    feats = [feature for feature in shapefile]\n",
    "\n",
    "# whole country\n",
    "ethiopia = [i['geometry'] for i in feats]\n",
    "\n",
    "# oromia\n",
    "oromia = [i['geometry'] for i in feats if i['properties']['NAME_1']=='Oromia']\n",
    "\n",
    "# gambella\n",
    "gambella = [i['geometry'] for i in feats if i['properties']['NAME_1']=='Gambela Peoples']"
   ]
  },
  {
   "cell_type": "code",
   "execution_count": 3,
   "metadata": {},
   "outputs": [],
   "source": [
    "data = []\n",
    "years = [2015, 2016, 2017, 2018]\n",
    "\n",
    "\n",
    "for year in years: \n",
    "\n",
    "    with rasterio.open(f\"tiffs/eth_predictions_{year}.tif\") as src:\n",
    "        out_image, out_transform = rasterio.mask.mask(src, \n",
    "                                                      gambella, # set the region to one of [ethiopia, oromia, gambella]\n",
    "                                                      crop=True)\n",
    "        out_meta = src.meta.copy()    \n",
    "\n",
    "    out_meta.update({\"driver\": \"GTiff\",\n",
    "                     \"height\": out_image.shape[1],\n",
    "                     \"width\": out_image.shape[2],\n",
    "                     \"transform\": out_transform})\n",
    "\n",
    "    with rasterio.open(f\"RGB.byte.masked.{year}.tif\", \"w\", **out_meta) as dest:\n",
    "        dest.write(out_image)    \n",
    "\n",
    "    # masked to Ethiopia shape\n",
    "    preds = rio.open(f'RGB.byte.masked.{year}.tif')\n",
    "    \n",
    "    data.append(preds)"
   ]
  },
  {
   "cell_type": "code",
   "execution_count": 4,
   "metadata": {},
   "outputs": [],
   "source": [
    "cmap = plt.cm.rainbow\n",
    "cmap.set_bad(color='black')"
   ]
  },
  {
   "cell_type": "code",
   "execution_count": 5,
   "metadata": {},
   "outputs": [
    {
     "data": {
      "image/png": "[encoded data removed]",
      "text/plain": [
       "<Figure size 864x720 with 1 Axes>"
      ]
     },
     "metadata": {
      "needs_background": "light"
     },
     "output_type": "display_data"
    }
   ],
   "source": [
    "fig, ax = plt.subplots(figsize=(12,10))\n",
    "chm_plot = ax.imshow(data[0].read(1), \n",
    "                     cmap=cmap,\n",
    "                     vmin=0,\n",
    "                     vmax=150)\n",
    "# patches = [PolygonPatch(feature) for feature in features]\n",
    "# ax.add_collection(mpl.collections.PatchCollection(patches))"
   ]
  },
  {
   "cell_type": "code",
   "execution_count": 6,
   "metadata": {
    "scrolled": false
   },
   "outputs": [
    {
     "data": {
      "text/plain": [
       "[Text(0, 0, 'Low Yield'), Text(0, 0, 'Medium Yield'), Text(0, 0, 'High Yield')]"
      ]
     },
     "execution_count": 6,
     "metadata": {},
     "output_type": "execute_result"
    },
    {
     "data": {
      "image/png": "[encoded data removed]",
      "text/plain": [
       "<Figure size 576x576 with 5 Axes>"
      ]
     },
     "metadata": {
      "needs_background": "light"
     },
     "output_type": "display_data"
    }
   ],
   "source": [
    "p = preds.read(1, masked=True) # Read the appropriate band\n",
    "fig, axs = plt.subplots(2,2, figsize=(8,8), gridspec_kw={\"height_ratios\":[1, 1]})\n",
    "\n",
    "cax = axs[0,0].imshow(data[0].read(1),cmap=cmap,vmin=0,vmax=150)\n",
    "axs[0,0].set_title('2015')\n",
    "axs[0,0].set_axis_off();\n",
    "\n",
    "axs[0,1].imshow(data[1].read(1),cmap=cmap,vmin=0,vmax=150)\n",
    "axs[0,1].set_title('2016')\n",
    "axs[0,1].set_axis_off();\n",
    "\n",
    "axs[1,0].imshow(data[2].read(1),cmap=cmap,vmin=0,vmax=150)\n",
    "axs[1,0].set_title('2017')\n",
    "axs[1,0].set_axis_off();\n",
    "\n",
    "axs[1,1].imshow(data[3].read(1),cmap=cmap,vmin=0,vmax=150)\n",
    "axs[1,1].set_title('2018')\n",
    "axs[1,1].set_axis_off();\n",
    "\n",
    "cbar = fig.colorbar(chm_plot, fraction=.03, ax=axs, ticks=[0, 75, 150], orientation=\"horizontal\", pad=0.05)\n",
    "cbar.ax.set_xticklabels(['Low Yield', 'Medium Yield', 'High Yield'])"
   ]
  },
  {
   "cell_type": "code",
   "execution_count": 7,
   "metadata": {},
   "outputs": [],
   "source": [
    "fig.savefig(f\"prediction_maps/gambella.png\", dpi=180)"
   ]
  }
 ],
 "metadata": {
  "kernelspec": {
   "display_name": "Python 3",
   "language": "python",
   "name": "python3"
  },
  "language_info": {
   "codemirror_mode": {
    "name": "ipython",
    "version": 3
   },
   "file_extension": ".py",
   "mimetype": "text/x-python",
   "name": "python",
   "nbconvert_exporter": "python",
   "pygments_lexer": "ipython3",
   "version": "3.7.3"
  }
 },
 "nbformat": 4,
 "nbformat_minor": 2
}
