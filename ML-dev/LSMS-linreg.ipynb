{
 "cells": [
  {
   "cell_type": "markdown",
   "metadata": {},
   "source": [
    "# LSMS Linear Regression \n",
    "Predict farm-level yields using vegetation index measures."
   ]
  },
  {
   "cell_type": "code",
   "execution_count": 1,
   "metadata": {},
   "outputs": [
    {
     "name": "stdout",
     "output_type": "stream",
     "text": [
      "Populating the interactive namespace from numpy and matplotlib\n"
     ]
    }
   ],
   "source": [
    "%pylab inline"
   ]
  },
  {
   "cell_type": "code",
   "execution_count": 2,
   "metadata": {},
   "outputs": [],
   "source": [
    "import pandas as pd\n",
    "import numpy as np\n",
    "import statsmodels.api as sm\n",
    "import seaborn as sns; sns.set()"
   ]
  },
  {
   "cell_type": "code",
   "execution_count": 3,
   "metadata": {},
   "outputs": [],
   "source": [
    "df1 = pd.read_csv('Feb_Apr_2015_Training_Data.csv')\n",
    "df1['Year'] = '2015'\n",
    "df2 = pd.read_csv('Feb_Apr_2011_Training_Data.csv')\n",
    "df2['Year'] = '2011'\n",
    "df3 = pd.read_csv('Feb_Apr_2013_Training_Data.csv')\n",
    "df3['Year'] = '2013'"
   ]
  },
  {
   "cell_type": "code",
   "execution_count": 4,
   "metadata": {
    "scrolled": true
   },
   "outputs": [
    {
     "data": {
      "text/plain": [
       "(25496, 20)"
      ]
     },
     "execution_count": 4,
     "metadata": {},
     "output_type": "execute_result"
    }
   ],
   "source": [
    "df1.shape"
   ]
  },
  {
   "cell_type": "code",
   "execution_count": 5,
   "metadata": {},
   "outputs": [
    {
     "data": {
      "text/plain": [
       "(4001, 21)"
      ]
     },
     "execution_count": 5,
     "metadata": {},
     "output_type": "execute_result"
    }
   ],
   "source": [
    "df2.shape"
   ]
  },
  {
   "cell_type": "code",
   "execution_count": 6,
   "metadata": {},
   "outputs": [
    {
     "data": {
      "text/plain": [
       "(26385, 21)"
      ]
     },
     "execution_count": 6,
     "metadata": {},
     "output_type": "execute_result"
    }
   ],
   "source": [
    "df3.shape"
   ]
  },
  {
   "cell_type": "code",
   "execution_count": 7,
   "metadata": {},
   "outputs": [],
   "source": [
    "crops_to_select = ['Barley','Maize','Sorghum','Teff','Wheat']"
   ]
  },
  {
   "cell_type": "code",
   "execution_count": 8,
   "metadata": {},
   "outputs": [
    {
     "name": "stderr",
     "output_type": "stream",
     "text": [
      "/anaconda3/envs/p37/lib/python3.7/site-packages/pandas/core/frame.py:6692: FutureWarning: Sorting because non-concatenation axis is not aligned. A future version\n",
      "of pandas will change to not sort by default.\n",
      "\n",
      "To accept the future behavior, pass 'sort=False'.\n",
      "\n",
      "To retain the current behavior and silence the warning, pass 'sort=True'.\n",
      "\n",
      "  sort=sort)\n"
     ]
    }
   ],
   "source": [
    "df = df1.append(df2).append(df3)\n",
    "df = df.reset_index()"
   ]
  },
  {
   "cell_type": "code",
   "execution_count": 9,
   "metadata": {},
   "outputs": [
    {
     "data": {
      "text/plain": [
       "True"
      ]
     },
     "execution_count": 9,
     "metadata": {},
     "output_type": "execute_result"
    }
   ],
   "source": [
    "df.shape[0] == df1.shape[0] + df2.shape[0] + df3.shape[0]"
   ]
  },
  {
   "cell_type": "code",
   "execution_count": 10,
   "metadata": {},
   "outputs": [],
   "source": [
    "df = df[df['Crop Name'].isin(crops_to_select)]"
   ]
  },
  {
   "cell_type": "code",
   "execution_count": 11,
   "metadata": {},
   "outputs": [],
   "source": [
    "del(df['.geo'])"
   ]
  },
  {
   "cell_type": "code",
   "execution_count": 12,
   "metadata": {},
   "outputs": [],
   "source": [
    "crops_encoded = pd.get_dummies(pd.DataFrame(df['Crop Name']))\n",
    "crop_cols = list(crops_encoded.columns)"
   ]
  },
  {
   "cell_type": "code",
   "execution_count": 13,
   "metadata": {},
   "outputs": [
    {
     "data": {
      "text/plain": [
       "(21887, 21)"
      ]
     },
     "execution_count": 13,
     "metadata": {},
     "output_type": "execute_result"
    }
   ],
   "source": [
    "df.shape"
   ]
  },
  {
   "cell_type": "code",
   "execution_count": 14,
   "metadata": {},
   "outputs": [],
   "source": [
    "def gen_logs_dummies(df):\n",
    "    VI_means = [i for i in list(df.columns) if 'mean' in i]\n",
    "\n",
    "    for vi in VI_means:\n",
    "        df[f\"log_{vi}\"] = df[vi].apply(lambda x: np.log(x))\n",
    "        \n",
    "    crops_encoded = pd.get_dummies(pd.DataFrame(df['Crop Name']))\n",
    "    year_encoded = pd.get_dummies(pd.DataFrame(df['Year']))\n",
    "    \n",
    "    df = df.merge(year_encoded, left_index=True, right_index=True)\n",
    "    df = df.merge(crops_encoded, left_index=True, right_index=True)\n",
    "    \n",
    "    return df"
   ]
  },
  {
   "cell_type": "code",
   "execution_count": 15,
   "metadata": {},
   "outputs": [],
   "source": [
    "df = gen_logs_dummies(df)"
   ]
  },
  {
   "cell_type": "code",
   "execution_count": 16,
   "metadata": {},
   "outputs": [
    {
     "data": {
      "text/plain": [
       "(21887, 34)"
      ]
     },
     "execution_count": 16,
     "metadata": {},
     "output_type": "execute_result"
    }
   ],
   "source": [
    "df.shape"
   ]
  },
  {
   "cell_type": "code",
   "execution_count": 17,
   "metadata": {},
   "outputs": [],
   "source": [
    "areas = pd.DataFrame(df['Area (Normalized)'])"
   ]
  },
  {
   "cell_type": "code",
   "execution_count": 18,
   "metadata": {},
   "outputs": [],
   "source": [
    "avg_field_size = round(np.nanmean(df['Area (Normalized)'])/10000,2)"
   ]
  },
  {
   "cell_type": "code",
   "execution_count": 19,
   "metadata": {},
   "outputs": [
    {
     "name": "stdout",
     "output_type": "stream",
     "text": [
      "Average field size is 6.61 hectares (when reported).\n"
     ]
    }
   ],
   "source": [
    "print(f\"Average field size is {avg_field_size} hectares (when reported).\")"
   ]
  },
  {
   "cell_type": "code",
   "execution_count": 20,
   "metadata": {},
   "outputs": [],
   "source": [
    "x_2015 = df[df['Year']=='2015']\n",
    "x_2015 = x_2015[x_2015['Crop Name'].isin(crops_to_select)]\n"
   ]
  },
  {
   "cell_type": "code",
   "execution_count": 21,
   "metadata": {},
   "outputs": [
    {
     "data": {
      "text/plain": [
       "['Crop Name_Barley', 'Crop Name_Maize', 'Crop Name_Sorghum', 'Crop Name_Teff']"
      ]
     },
     "execution_count": 21,
     "metadata": {},
     "output_type": "execute_result"
    }
   ],
   "source": [
    "crop_cols[:-1]"
   ]
  },
  {
   "cell_type": "code",
   "execution_count": 22,
   "metadata": {},
   "outputs": [],
   "source": [
    "base_x_cols = [#'log_NDVI_mean', \n",
    "               #'log_mean_EVI', \n",
    "               #'log_TVI_mean', \n",
    "               #'log_GCVI_mean', \n",
    "               #'EVI_variance', \n",
    "               #'NDVI_variance', \n",
    "               #'TVI_variance', \n",
    "               #'GCVI_variance',\n",
    "               #'NDVI_mean',\n",
    "               'EVI_mean',\n",
    "               #'GCVI_mean',\n",
    "               'TVI_mean',\n",
    "               'Year_2011',\n",
    "               'Year_2013']#,\n",
    "               #'Year_2015']\n",
    "all_x_cols = base_x_cols + crop_cols[:-1]\n",
    "y_col = ['Quantity (kg)']"
   ]
  },
  {
   "cell_type": "code",
   "execution_count": 23,
   "metadata": {},
   "outputs": [],
   "source": [
    "cols_ = base_x_cols"
   ]
  },
  {
   "cell_type": "code",
   "execution_count": 24,
   "metadata": {},
   "outputs": [
    {
     "name": "stdout",
     "output_type": "stream",
     "text": [
      "There are 21887 observations prior to removing NAs\n",
      "There are 20308 observations after removing NAs\n"
     ]
    }
   ],
   "source": [
    "df_ = df[y_col + all_x_cols]\n",
    "\n",
    "print(f\"There are {df_.shape[0]} observations prior to removing NAs\")\n",
    "df_ = df_.dropna()\n",
    "print(f\"There are {df_.shape[0]} observations after removing NAs\")\n",
    "\n",
    "y = df_[y_col]\n",
    "x = df_[cols_]"
   ]
  },
  {
   "cell_type": "code",
   "execution_count": 25,
   "metadata": {},
   "outputs": [
    {
     "data": {
      "text/html": [
       "<div>\n",
       "<style scoped>\n",
       "    .dataframe tbody tr th:only-of-type {\n",
       "        vertical-align: middle;\n",
       "    }\n",
       "\n",
       "    .dataframe tbody tr th {\n",
       "        vertical-align: top;\n",
       "    }\n",
       "\n",
       "    .dataframe thead th {\n",
       "        text-align: right;\n",
       "    }\n",
       "</style>\n",
       "<table border=\"1\" class=\"dataframe\">\n",
       "  <thead>\n",
       "    <tr style=\"text-align: right;\">\n",
       "      <th></th>\n",
       "      <th>Quantity (kg)</th>\n",
       "    </tr>\n",
       "  </thead>\n",
       "  <tbody>\n",
       "    <tr>\n",
       "      <th>count</th>\n",
       "      <td>20308.000000</td>\n",
       "    </tr>\n",
       "    <tr>\n",
       "      <th>mean</th>\n",
       "      <td>143.422476</td>\n",
       "    </tr>\n",
       "    <tr>\n",
       "      <th>std</th>\n",
       "      <td>183.051145</td>\n",
       "    </tr>\n",
       "    <tr>\n",
       "      <th>min</th>\n",
       "      <td>0.000000</td>\n",
       "    </tr>\n",
       "    <tr>\n",
       "      <th>25%</th>\n",
       "      <td>18.260000</td>\n",
       "    </tr>\n",
       "    <tr>\n",
       "      <th>50%</th>\n",
       "      <td>77.714002</td>\n",
       "    </tr>\n",
       "    <tr>\n",
       "      <th>75%</th>\n",
       "      <td>200.000000</td>\n",
       "    </tr>\n",
       "    <tr>\n",
       "      <th>max</th>\n",
       "      <td>1000.000000</td>\n",
       "    </tr>\n",
       "  </tbody>\n",
       "</table>\n",
       "</div>"
      ],
      "text/plain": [
       "       Quantity (kg)\n",
       "count   20308.000000\n",
       "mean      143.422476\n",
       "std       183.051145\n",
       "min         0.000000\n",
       "25%        18.260000\n",
       "50%        77.714002\n",
       "75%       200.000000\n",
       "max      1000.000000"
      ]
     },
     "execution_count": 25,
     "metadata": {},
     "output_type": "execute_result"
    }
   ],
   "source": [
    "y.describe()"
   ]
  },
  {
   "cell_type": "code",
   "execution_count": 26,
   "metadata": {},
   "outputs": [
    {
     "data": {
      "text/html": [
       "<div>\n",
       "<style scoped>\n",
       "    .dataframe tbody tr th:only-of-type {\n",
       "        vertical-align: middle;\n",
       "    }\n",
       "\n",
       "    .dataframe tbody tr th {\n",
       "        vertical-align: top;\n",
       "    }\n",
       "\n",
       "    .dataframe thead th {\n",
       "        text-align: right;\n",
       "    }\n",
       "</style>\n",
       "<table border=\"1\" class=\"dataframe\">\n",
       "  <thead>\n",
       "    <tr style=\"text-align: right;\">\n",
       "      <th></th>\n",
       "      <th>EVI_mean</th>\n",
       "      <th>TVI_mean</th>\n",
       "      <th>Year_2011</th>\n",
       "      <th>Year_2013</th>\n",
       "    </tr>\n",
       "  </thead>\n",
       "  <tbody>\n",
       "    <tr>\n",
       "      <th>count</th>\n",
       "      <td>20308.000000</td>\n",
       "      <td>20308.000000</td>\n",
       "      <td>20308.000000</td>\n",
       "      <td>20308.000000</td>\n",
       "    </tr>\n",
       "    <tr>\n",
       "      <th>mean</th>\n",
       "      <td>0.208146</td>\n",
       "      <td>6.363893</td>\n",
       "      <td>0.078590</td>\n",
       "      <td>0.474542</td>\n",
       "    </tr>\n",
       "    <tr>\n",
       "      <th>std</th>\n",
       "      <td>0.087726</td>\n",
       "      <td>3.335135</td>\n",
       "      <td>0.269104</td>\n",
       "      <td>0.499364</td>\n",
       "    </tr>\n",
       "    <tr>\n",
       "      <th>min</th>\n",
       "      <td>0.064499</td>\n",
       "      <td>1.078087</td>\n",
       "      <td>0.000000</td>\n",
       "      <td>0.000000</td>\n",
       "    </tr>\n",
       "    <tr>\n",
       "      <th>25%</th>\n",
       "      <td>0.148917</td>\n",
       "      <td>4.084324</td>\n",
       "      <td>0.000000</td>\n",
       "      <td>0.000000</td>\n",
       "    </tr>\n",
       "    <tr>\n",
       "      <th>50%</th>\n",
       "      <td>0.189261</td>\n",
       "      <td>5.613338</td>\n",
       "      <td>0.000000</td>\n",
       "      <td>0.000000</td>\n",
       "    </tr>\n",
       "    <tr>\n",
       "      <th>75%</th>\n",
       "      <td>0.244686</td>\n",
       "      <td>7.787534</td>\n",
       "      <td>0.000000</td>\n",
       "      <td>1.000000</td>\n",
       "    </tr>\n",
       "    <tr>\n",
       "      <th>max</th>\n",
       "      <td>0.653160</td>\n",
       "      <td>24.150724</td>\n",
       "      <td>1.000000</td>\n",
       "      <td>1.000000</td>\n",
       "    </tr>\n",
       "  </tbody>\n",
       "</table>\n",
       "</div>"
      ],
      "text/plain": [
       "           EVI_mean      TVI_mean     Year_2011     Year_2013\n",
       "count  20308.000000  20308.000000  20308.000000  20308.000000\n",
       "mean       0.208146      6.363893      0.078590      0.474542\n",
       "std        0.087726      3.335135      0.269104      0.499364\n",
       "min        0.064499      1.078087      0.000000      0.000000\n",
       "25%        0.148917      4.084324      0.000000      0.000000\n",
       "50%        0.189261      5.613338      0.000000      0.000000\n",
       "75%        0.244686      7.787534      0.000000      1.000000\n",
       "max        0.653160     24.150724      1.000000      1.000000"
      ]
     },
     "execution_count": 26,
     "metadata": {},
     "output_type": "execute_result"
    }
   ],
   "source": [
    "x.describe()"
   ]
  },
  {
   "cell_type": "code",
   "execution_count": 27,
   "metadata": {
    "scrolled": false
   },
   "outputs": [
    {
     "name": "stdout",
     "output_type": "stream",
     "text": [
      "                                 OLS Regression Results                                \n",
      "=======================================================================================\n",
      "Dep. Variable:          Quantity (kg)   R-squared (uncentered):                   0.377\n",
      "Model:                            OLS   Adj. R-squared (uncentered):              0.377\n",
      "Method:                 Least Squares   F-statistic:                              3075.\n",
      "Date:                Sun, 06 Oct 2019   Prob (F-statistic):                        0.00\n",
      "Time:                        11:09:43   Log-Likelihood:                     -1.3467e+05\n",
      "No. Observations:               20308   AIC:                                  2.693e+05\n",
      "Df Residuals:                   20304   BIC:                                  2.694e+05\n",
      "Df Model:                           4                                                  \n",
      "Covariance Type:            nonrobust                                                  \n",
      "==============================================================================\n",
      "                 coef    std err          t      P>|t|      [0.025      0.975]\n",
      "------------------------------------------------------------------------------\n",
      "EVI_mean    3633.2812     70.104     51.827      0.000    3495.872    3770.690\n",
      "TVI_mean     -94.1895      2.123    -44.359      0.000     -98.352     -90.028\n",
      "Year_2011     -7.5266      5.212     -1.444      0.149     -17.742       2.689\n",
      "Year_2013    -39.0218      2.701    -14.449      0.000     -44.316     -33.728\n",
      "==============================================================================\n",
      "Omnibus:                     8502.342   Durbin-Watson:                   1.174\n",
      "Prob(Omnibus):                  0.000   Jarque-Bera (JB):            36611.712\n",
      "Skew:                           2.072   Prob(JB):                         0.00\n",
      "Kurtosis:                       8.108   Cond. No.                         392.\n",
      "==============================================================================\n",
      "\n",
      "Warnings:\n",
      "[1] Standard Errors assume that the covariance matrix of the errors is correctly specified.\n"
     ]
    }
   ],
   "source": [
    "mod = sm.OLS(y,x)\n",
    "\n",
    "res = mod.fit()\n",
    "\n",
    "print(res.summary())"
   ]
  },
  {
   "cell_type": "markdown",
   "metadata": {},
   "source": [
    "Total predicted yield in 2015 (for farms):"
   ]
  },
  {
   "cell_type": "code",
   "execution_count": 28,
   "metadata": {},
   "outputs": [
    {
     "data": {
      "text/plain": [
       "137.73182008981868"
      ]
     },
     "execution_count": 28,
     "metadata": {},
     "output_type": "execute_result"
    }
   ],
   "source": [
    "np.nanmean(res.predict(x))"
   ]
  },
  {
   "cell_type": "markdown",
   "metadata": {},
   "source": [
    "Total actual yield in 2015 (for farms):"
   ]
  },
  {
   "cell_type": "code",
   "execution_count": 29,
   "metadata": {},
   "outputs": [
    {
     "data": {
      "text/plain": [
       "2912623.6504040356"
      ]
     },
     "execution_count": 29,
     "metadata": {},
     "output_type": "execute_result"
    }
   ],
   "source": [
    "y.sum()['Quantity (kg)']"
   ]
  },
  {
   "cell_type": "markdown",
   "metadata": {},
   "source": [
    "## Predictions"
   ]
  },
  {
   "cell_type": "code",
   "execution_count": 30,
   "metadata": {},
   "outputs": [],
   "source": [
    "def get_region(region,df):\n",
    "    return df[df['region_zone_woreda'].str.contains(region)]"
   ]
  },
  {
   "cell_type": "markdown",
   "metadata": {},
   "source": [
    "SET REGION:"
   ]
  },
  {
   "cell_type": "code",
   "execution_count": 31,
   "metadata": {},
   "outputs": [],
   "source": [
    "region = 'All'"
   ]
  },
  {
   "cell_type": "code",
   "execution_count": 32,
   "metadata": {},
   "outputs": [],
   "source": [
    "if region == 'All':\n",
    "    sub_region = False\n",
    "else:\n",
    "    sub_region = True\n",
    "\n",
    "if sub_region == True:\n",
    "    x_2015 = get_region(region,x_2015)\n",
    "x_2015 = x_2015[cols_]\n",
    "\n",
    "_df = pd.read_csv('Feb_Apr_2016_Forecast_Data.csv')\n",
    "_df['Year_2011'] = 0\n",
    "_df['Year_2013'] = 0\n",
    "if sub_region == True:\n",
    "    _df = get_region(region, _df)\n",
    "_df = gen_logs_dummies(_df)\n",
    "_df = _df[_df['Crop Name'].isin(crops_to_select)]\n",
    "x_2016 = _df[cols_]\n",
    "\n",
    "_df = pd.read_csv('Feb_Apr_2017_Forecast_Data.csv')\n",
    "_df['Year_2011'] = 0\n",
    "_df['Year_2013'] = 0\n",
    "if sub_region == True:\n",
    "    _df = get_region(region, _df)\n",
    "_df = gen_logs_dummies(_df)\n",
    "_df = _df[_df['Crop Name'].isin(crops_to_select)]\n",
    "x_2017 = _df[cols_]\n",
    "\n",
    "_df = pd.read_csv('Feb_Apr_2018_Forecast_Data.csv')\n",
    "_df['Year_2011'] = 0\n",
    "_df['Year_2013'] = 0\n",
    "if sub_region == True:\n",
    "    _df = get_region(region, _df)\n",
    "_df = gen_logs_dummies(_df)\n",
    "_df = _df[_df['Crop Name'].isin(crops_to_select)]\n",
    "x_2018 = _df[cols_]"
   ]
  },
  {
   "cell_type": "code",
   "execution_count": 33,
   "metadata": {},
   "outputs": [],
   "source": [
    "if region == 'oro':\n",
    "    region = 'Oromia'\n",
    "if region == 'gamb':\n",
    "    region = 'Gambela'"
   ]
  },
  {
   "cell_type": "code",
   "execution_count": 34,
   "metadata": {},
   "outputs": [
    {
     "data": {
      "text/plain": [
       "True"
      ]
     },
     "execution_count": 34,
     "metadata": {},
     "output_type": "execute_result"
    }
   ],
   "source": [
    "x_2015.shape == x_2016.shape == x_2017.shape == x_2018.shape"
   ]
  },
  {
   "cell_type": "code",
   "execution_count": 35,
   "metadata": {},
   "outputs": [],
   "source": [
    "y_15 = np.nanmean(res.predict(x_2015))"
   ]
  },
  {
   "cell_type": "code",
   "execution_count": 36,
   "metadata": {
    "scrolled": true
   },
   "outputs": [],
   "source": [
    "y_16 = np.nanmean(res.predict(x_2016))"
   ]
  },
  {
   "cell_type": "code",
   "execution_count": 37,
   "metadata": {
    "scrolled": true
   },
   "outputs": [],
   "source": [
    "y_17 = np.nanmean(res.predict(x_2017))"
   ]
  },
  {
   "cell_type": "code",
   "execution_count": 38,
   "metadata": {
    "scrolled": true
   },
   "outputs": [],
   "source": [
    "y_18 = np.nanmean(res.predict(x_2018))"
   ]
  },
  {
   "cell_type": "code",
   "execution_count": 39,
   "metadata": {},
   "outputs": [],
   "source": [
    "output = {'Year': [2015, 2016, 2017, 2018], 'Predictions': [y_15, y_16, y_17, y_18]}"
   ]
  },
  {
   "cell_type": "code",
   "execution_count": 40,
   "metadata": {
    "scrolled": false
   },
   "outputs": [
    {
     "data": {
      "image/png": "[encoded data removed]",
      "text/plain": [
       "<Figure size 576x432 with 1 Axes>"
      ]
     },
     "metadata": {},
     "output_type": "display_data"
    }
   ],
   "source": [
    "plt = df.from_dict(output).plot('Year','Predictions', xticks=[2015,2016,2017,2018], figsize=(8,6), title=f\"Predicted Mean Yield per Field (LSMS) {region}\")\n",
    "plt.figure.savefig(f'Predictions_{region}.png',dpi=180)"
   ]
  },
  {
   "cell_type": "code",
   "execution_count": 41,
   "metadata": {},
   "outputs": [],
   "source": [
    "actuals = pd.read_csv('Crop_Yield_CSA_formatted.csv')"
   ]
  },
  {
   "cell_type": "code",
   "execution_count": 42,
   "metadata": {},
   "outputs": [
    {
     "data": {
      "text/html": [
       "<div>\n",
       "<style scoped>\n",
       "    .dataframe tbody tr th:only-of-type {\n",
       "        vertical-align: middle;\n",
       "    }\n",
       "\n",
       "    .dataframe tbody tr th {\n",
       "        vertical-align: top;\n",
       "    }\n",
       "\n",
       "    .dataframe thead th {\n",
       "        text-align: right;\n",
       "    }\n",
       "</style>\n",
       "<table border=\"1\" class=\"dataframe\">\n",
       "  <thead>\n",
       "    <tr style=\"text-align: right;\">\n",
       "      <th></th>\n",
       "      <th>Crop</th>\n",
       "      <th>Zone</th>\n",
       "      <th>area_2013</th>\n",
       "      <th>area_2014</th>\n",
       "      <th>area_2015</th>\n",
       "      <th>area_2016</th>\n",
       "      <th>area_2017</th>\n",
       "      <th>area_2018</th>\n",
       "      <th>yield_2013</th>\n",
       "      <th>yield_2014</th>\n",
       "      <th>yield_2015</th>\n",
       "      <th>yield_2016</th>\n",
       "      <th>yield_2017</th>\n",
       "      <th>yield_2018</th>\n",
       "    </tr>\n",
       "  </thead>\n",
       "  <tbody>\n",
       "    <tr>\n",
       "      <th>0</th>\n",
       "      <td>Teff</td>\n",
       "      <td>All</td>\n",
       "      <td>2.730273e+06</td>\n",
       "      <td>3016521.90</td>\n",
       "      <td>3016053.75</td>\n",
       "      <td>2866052.99</td>\n",
       "      <td>3017914.36</td>\n",
       "      <td>3023283.50</td>\n",
       "      <td>37652411.66</td>\n",
       "      <td>44186421.95</td>\n",
       "      <td>47506572.79</td>\n",
       "      <td>44713786.91</td>\n",
       "      <td>50204400.47</td>\n",
       "      <td>52834011.56</td>\n",
       "    </tr>\n",
       "    <tr>\n",
       "      <th>1</th>\n",
       "      <td>Barley</td>\n",
       "      <td>All</td>\n",
       "      <td>1.018753e+06</td>\n",
       "      <td>1019477.93</td>\n",
       "      <td>993918.89</td>\n",
       "      <td>944401.34</td>\n",
       "      <td>959273.36</td>\n",
       "      <td>951993.15</td>\n",
       "      <td>17816522.08</td>\n",
       "      <td>19082624.11</td>\n",
       "      <td>19533847.83</td>\n",
       "      <td>18567042.76</td>\n",
       "      <td>20249216.76</td>\n",
       "      <td>20529963.72</td>\n",
       "    </tr>\n",
       "    <tr>\n",
       "      <th>2</th>\n",
       "      <td>Wheat</td>\n",
       "      <td>All</td>\n",
       "      <td>1.627647e+06</td>\n",
       "      <td>1605653.90</td>\n",
       "      <td>1663837.58</td>\n",
       "      <td>1664564.62</td>\n",
       "      <td>1696082.59</td>\n",
       "      <td>1696907.05</td>\n",
       "      <td>34347061.22</td>\n",
       "      <td>39251741.35</td>\n",
       "      <td>42315887.16</td>\n",
       "      <td>42192572.23</td>\n",
       "      <td>45378523.39</td>\n",
       "      <td>46429657.12</td>\n",
       "    </tr>\n",
       "    <tr>\n",
       "      <th>3</th>\n",
       "      <td>Maize</td>\n",
       "      <td>All</td>\n",
       "      <td>2.013045e+06</td>\n",
       "      <td>1994813.80</td>\n",
       "      <td>2110209.61</td>\n",
       "      <td>2111518.23</td>\n",
       "      <td>2135571.85</td>\n",
       "      <td>2128948.91</td>\n",
       "      <td>61583175.95</td>\n",
       "      <td>64915402.92</td>\n",
       "      <td>72349551.02</td>\n",
       "      <td>71508354.11</td>\n",
       "      <td>78471746.57</td>\n",
       "      <td>83958872.44</td>\n",
       "    </tr>\n",
       "    <tr>\n",
       "      <th>4</th>\n",
       "      <td>Sorghum</td>\n",
       "      <td>All</td>\n",
       "      <td>1.711485e+06</td>\n",
       "      <td>1677486.33</td>\n",
       "      <td>1831600.45</td>\n",
       "      <td>1854710.93</td>\n",
       "      <td>1881970.73</td>\n",
       "      <td>1896389.29</td>\n",
       "      <td>36042619.65</td>\n",
       "      <td>38288701.03</td>\n",
       "      <td>43391342.61</td>\n",
       "      <td>43232997.52</td>\n",
       "      <td>47520956.04</td>\n",
       "      <td>51692525.40</td>\n",
       "    </tr>\n",
       "    <tr>\n",
       "      <th>5</th>\n",
       "      <td>Teff</td>\n",
       "      <td>Oromia</td>\n",
       "      <td>1.256565e+06</td>\n",
       "      <td>1397797.42</td>\n",
       "      <td>1427548.05</td>\n",
       "      <td>1369934.27</td>\n",
       "      <td>1441029.78</td>\n",
       "      <td>1443847.96</td>\n",
       "      <td>17535596.51</td>\n",
       "      <td>21040842.17</td>\n",
       "      <td>23254882.16</td>\n",
       "      <td>22156257.67</td>\n",
       "      <td>24737963.79</td>\n",
       "      <td>25814577.48</td>\n",
       "    </tr>\n",
       "    <tr>\n",
       "      <th>6</th>\n",
       "      <td>Barley</td>\n",
       "      <td>Oromia</td>\n",
       "      <td>4.485453e+05</td>\n",
       "      <td>471134.15</td>\n",
       "      <td>456192.42</td>\n",
       "      <td>439971.07</td>\n",
       "      <td>454662.78</td>\n",
       "      <td>451279.26</td>\n",
       "      <td>8977417.59</td>\n",
       "      <td>10239091.87</td>\n",
       "      <td>10275326.49</td>\n",
       "      <td>9800863.02</td>\n",
       "      <td>10939448.13</td>\n",
       "      <td>10884876.60</td>\n",
       "    </tr>\n",
       "    <tr>\n",
       "      <th>7</th>\n",
       "      <td>Wheat</td>\n",
       "      <td>Oromia</td>\n",
       "      <td>8.729718e+05</td>\n",
       "      <td>837000.48</td>\n",
       "      <td>875641.45</td>\n",
       "      <td>872252.80</td>\n",
       "      <td>898455.57</td>\n",
       "      <td>898682.57</td>\n",
       "      <td>20262900.10</td>\n",
       "      <td>23028513.78</td>\n",
       "      <td>24703210.41</td>\n",
       "      <td>24593751.44</td>\n",
       "      <td>26640244.46</td>\n",
       "      <td>26699177.73</td>\n",
       "    </tr>\n",
       "    <tr>\n",
       "      <th>8</th>\n",
       "      <td>Maize</td>\n",
       "      <td>Oromia</td>\n",
       "      <td>1.115957e+06</td>\n",
       "      <td>1083332.83</td>\n",
       "      <td>1129849.71</td>\n",
       "      <td>1125747.85</td>\n",
       "      <td>1142653.56</td>\n",
       "      <td>1146899.78</td>\n",
       "      <td>35908457.46</td>\n",
       "      <td>35954090.42</td>\n",
       "      <td>39441103.64</td>\n",
       "      <td>39538593.74</td>\n",
       "      <td>43620969.31</td>\n",
       "      <td>46767440.66</td>\n",
       "    </tr>\n",
       "    <tr>\n",
       "      <th>9</th>\n",
       "      <td>Sorghum</td>\n",
       "      <td>Oromia</td>\n",
       "      <td>6.756573e+05</td>\n",
       "      <td>669575.97</td>\n",
       "      <td>719399.70</td>\n",
       "      <td>759954.42</td>\n",
       "      <td>739781.80</td>\n",
       "      <td>735263.79</td>\n",
       "      <td>14898156.74</td>\n",
       "      <td>16739208.69</td>\n",
       "      <td>18146716.97</td>\n",
       "      <td>18846300.71</td>\n",
       "      <td>19166012.28</td>\n",
       "      <td>20810667.34</td>\n",
       "    </tr>\n",
       "    <tr>\n",
       "      <th>10</th>\n",
       "      <td>Teff</td>\n",
       "      <td>Gambela</td>\n",
       "      <td>0.000000e+00</td>\n",
       "      <td>0.00</td>\n",
       "      <td>0.00</td>\n",
       "      <td>0.00</td>\n",
       "      <td>0.00</td>\n",
       "      <td>0.00</td>\n",
       "      <td>0.00</td>\n",
       "      <td>0.00</td>\n",
       "      <td>0.00</td>\n",
       "      <td>0.00</td>\n",
       "      <td>0.00</td>\n",
       "      <td>0.00</td>\n",
       "    </tr>\n",
       "    <tr>\n",
       "      <th>11</th>\n",
       "      <td>Barley</td>\n",
       "      <td>Gambela</td>\n",
       "      <td>0.000000e+00</td>\n",
       "      <td>0.00</td>\n",
       "      <td>0.00</td>\n",
       "      <td>0.00</td>\n",
       "      <td>0.00</td>\n",
       "      <td>0.00</td>\n",
       "      <td>0.00</td>\n",
       "      <td>0.00</td>\n",
       "      <td>0.00</td>\n",
       "      <td>0.00</td>\n",
       "      <td>0.00</td>\n",
       "      <td>0.00</td>\n",
       "    </tr>\n",
       "    <tr>\n",
       "      <th>12</th>\n",
       "      <td>Wheat</td>\n",
       "      <td>Gambela</td>\n",
       "      <td>0.000000e+00</td>\n",
       "      <td>0.00</td>\n",
       "      <td>0.00</td>\n",
       "      <td>0.00</td>\n",
       "      <td>0.00</td>\n",
       "      <td>0.00</td>\n",
       "      <td>0.00</td>\n",
       "      <td>0.00</td>\n",
       "      <td>0.00</td>\n",
       "      <td>0.00</td>\n",
       "      <td>0.00</td>\n",
       "      <td>0.00</td>\n",
       "    </tr>\n",
       "    <tr>\n",
       "      <th>13</th>\n",
       "      <td>Maize</td>\n",
       "      <td>Gambela</td>\n",
       "      <td>7.999600e+02</td>\n",
       "      <td>4666.49</td>\n",
       "      <td>4666.49</td>\n",
       "      <td>4080.02</td>\n",
       "      <td>4061.50</td>\n",
       "      <td>4751.79</td>\n",
       "      <td>119724.88</td>\n",
       "      <td>101070.13</td>\n",
       "      <td>101070.13</td>\n",
       "      <td>79695.37</td>\n",
       "      <td>91449.38</td>\n",
       "      <td>125827.55</td>\n",
       "    </tr>\n",
       "    <tr>\n",
       "      <th>14</th>\n",
       "      <td>Sorghum</td>\n",
       "      <td>Gambela</td>\n",
       "      <td>3.662028e+03</td>\n",
       "      <td>3050.36</td>\n",
       "      <td>3050.36</td>\n",
       "      <td>2598.59</td>\n",
       "      <td>2846.94</td>\n",
       "      <td>1704.10</td>\n",
       "      <td>82322.40</td>\n",
       "      <td>72280.69</td>\n",
       "      <td>72280.69</td>\n",
       "      <td>40872.52</td>\n",
       "      <td>61686.95</td>\n",
       "      <td>37929.99</td>\n",
       "    </tr>\n",
       "  </tbody>\n",
       "</table>\n",
       "</div>"
      ],
      "text/plain": [
       "       Crop     Zone     area_2013   area_2014   area_2015   area_2016  \\\n",
       "0      Teff      All  2.730273e+06  3016521.90  3016053.75  2866052.99   \n",
       "1    Barley      All  1.018753e+06  1019477.93   993918.89   944401.34   \n",
       "2     Wheat      All  1.627647e+06  1605653.90  1663837.58  1664564.62   \n",
       "3     Maize      All  2.013045e+06  1994813.80  2110209.61  2111518.23   \n",
       "4   Sorghum      All  1.711485e+06  1677486.33  1831600.45  1854710.93   \n",
       "5      Teff   Oromia  1.256565e+06  1397797.42  1427548.05  1369934.27   \n",
       "6    Barley   Oromia  4.485453e+05   471134.15   456192.42   439971.07   \n",
       "7     Wheat   Oromia  8.729718e+05   837000.48   875641.45   872252.80   \n",
       "8     Maize   Oromia  1.115957e+06  1083332.83  1129849.71  1125747.85   \n",
       "9   Sorghum   Oromia  6.756573e+05   669575.97   719399.70   759954.42   \n",
       "10     Teff  Gambela  0.000000e+00        0.00        0.00        0.00   \n",
       "11   Barley  Gambela  0.000000e+00        0.00        0.00        0.00   \n",
       "12    Wheat  Gambela  0.000000e+00        0.00        0.00        0.00   \n",
       "13    Maize  Gambela  7.999600e+02     4666.49     4666.49     4080.02   \n",
       "14  Sorghum  Gambela  3.662028e+03     3050.36     3050.36     2598.59   \n",
       "\n",
       "     area_2017   area_2018   yield_2013   yield_2014   yield_2015  \\\n",
       "0   3017914.36  3023283.50  37652411.66  44186421.95  47506572.79   \n",
       "1    959273.36   951993.15  17816522.08  19082624.11  19533847.83   \n",
       "2   1696082.59  1696907.05  34347061.22  39251741.35  42315887.16   \n",
       "3   2135571.85  2128948.91  61583175.95  64915402.92  72349551.02   \n",
       "4   1881970.73  1896389.29  36042619.65  38288701.03  43391342.61   \n",
       "5   1441029.78  1443847.96  17535596.51  21040842.17  23254882.16   \n",
       "6    454662.78   451279.26   8977417.59  10239091.87  10275326.49   \n",
       "7    898455.57   898682.57  20262900.10  23028513.78  24703210.41   \n",
       "8   1142653.56  1146899.78  35908457.46  35954090.42  39441103.64   \n",
       "9    739781.80   735263.79  14898156.74  16739208.69  18146716.97   \n",
       "10        0.00        0.00         0.00         0.00         0.00   \n",
       "11        0.00        0.00         0.00         0.00         0.00   \n",
       "12        0.00        0.00         0.00         0.00         0.00   \n",
       "13     4061.50     4751.79    119724.88    101070.13    101070.13   \n",
       "14     2846.94     1704.10     82322.40     72280.69     72280.69   \n",
       "\n",
       "     yield_2016   yield_2017   yield_2018  \n",
       "0   44713786.91  50204400.47  52834011.56  \n",
       "1   18567042.76  20249216.76  20529963.72  \n",
       "2   42192572.23  45378523.39  46429657.12  \n",
       "3   71508354.11  78471746.57  83958872.44  \n",
       "4   43232997.52  47520956.04  51692525.40  \n",
       "5   22156257.67  24737963.79  25814577.48  \n",
       "6    9800863.02  10939448.13  10884876.60  \n",
       "7   24593751.44  26640244.46  26699177.73  \n",
       "8   39538593.74  43620969.31  46767440.66  \n",
       "9   18846300.71  19166012.28  20810667.34  \n",
       "10         0.00         0.00         0.00  \n",
       "11         0.00         0.00         0.00  \n",
       "12         0.00         0.00         0.00  \n",
       "13     79695.37     91449.38    125827.55  \n",
       "14     40872.52     61686.95     37929.99  "
      ]
     },
     "execution_count": 42,
     "metadata": {},
     "output_type": "execute_result"
    }
   ],
   "source": [
    "actuals"
   ]
  },
  {
   "cell_type": "code",
   "execution_count": 43,
   "metadata": {},
   "outputs": [],
   "source": [
    "actuals = actuals[actuals['Zone'] == region]"
   ]
  },
  {
   "cell_type": "code",
   "execution_count": 44,
   "metadata": {
    "scrolled": true
   },
   "outputs": [
    {
     "data": {
      "text/html": [
       "<div>\n",
       "<style scoped>\n",
       "    .dataframe tbody tr th:only-of-type {\n",
       "        vertical-align: middle;\n",
       "    }\n",
       "\n",
       "    .dataframe tbody tr th {\n",
       "        vertical-align: top;\n",
       "    }\n",
       "\n",
       "    .dataframe thead th {\n",
       "        text-align: right;\n",
       "    }\n",
       "</style>\n",
       "<table border=\"1\" class=\"dataframe\">\n",
       "  <thead>\n",
       "    <tr style=\"text-align: right;\">\n",
       "      <th></th>\n",
       "      <th>Crop</th>\n",
       "      <th>Zone</th>\n",
       "      <th>area_2013</th>\n",
       "      <th>area_2014</th>\n",
       "      <th>area_2015</th>\n",
       "      <th>area_2016</th>\n",
       "      <th>area_2017</th>\n",
       "      <th>area_2018</th>\n",
       "      <th>yield_2013</th>\n",
       "      <th>yield_2014</th>\n",
       "      <th>yield_2015</th>\n",
       "      <th>yield_2016</th>\n",
       "      <th>yield_2017</th>\n",
       "      <th>yield_2018</th>\n",
       "    </tr>\n",
       "  </thead>\n",
       "  <tbody>\n",
       "    <tr>\n",
       "      <th>0</th>\n",
       "      <td>Teff</td>\n",
       "      <td>All</td>\n",
       "      <td>2730272.95</td>\n",
       "      <td>3016521.90</td>\n",
       "      <td>3016053.75</td>\n",
       "      <td>2866052.99</td>\n",
       "      <td>3017914.36</td>\n",
       "      <td>3023283.50</td>\n",
       "      <td>37652411.66</td>\n",
       "      <td>44186421.95</td>\n",
       "      <td>47506572.79</td>\n",
       "      <td>44713786.91</td>\n",
       "      <td>50204400.47</td>\n",
       "      <td>52834011.56</td>\n",
       "    </tr>\n",
       "    <tr>\n",
       "      <th>1</th>\n",
       "      <td>Barley</td>\n",
       "      <td>All</td>\n",
       "      <td>1018752.94</td>\n",
       "      <td>1019477.93</td>\n",
       "      <td>993918.89</td>\n",
       "      <td>944401.34</td>\n",
       "      <td>959273.36</td>\n",
       "      <td>951993.15</td>\n",
       "      <td>17816522.08</td>\n",
       "      <td>19082624.11</td>\n",
       "      <td>19533847.83</td>\n",
       "      <td>18567042.76</td>\n",
       "      <td>20249216.76</td>\n",
       "      <td>20529963.72</td>\n",
       "    </tr>\n",
       "    <tr>\n",
       "      <th>2</th>\n",
       "      <td>Wheat</td>\n",
       "      <td>All</td>\n",
       "      <td>1627647.16</td>\n",
       "      <td>1605653.90</td>\n",
       "      <td>1663837.58</td>\n",
       "      <td>1664564.62</td>\n",
       "      <td>1696082.59</td>\n",
       "      <td>1696907.05</td>\n",
       "      <td>34347061.22</td>\n",
       "      <td>39251741.35</td>\n",
       "      <td>42315887.16</td>\n",
       "      <td>42192572.23</td>\n",
       "      <td>45378523.39</td>\n",
       "      <td>46429657.12</td>\n",
       "    </tr>\n",
       "    <tr>\n",
       "      <th>3</th>\n",
       "      <td>Maize</td>\n",
       "      <td>All</td>\n",
       "      <td>2013044.93</td>\n",
       "      <td>1994813.80</td>\n",
       "      <td>2110209.61</td>\n",
       "      <td>2111518.23</td>\n",
       "      <td>2135571.85</td>\n",
       "      <td>2128948.91</td>\n",
       "      <td>61583175.95</td>\n",
       "      <td>64915402.92</td>\n",
       "      <td>72349551.02</td>\n",
       "      <td>71508354.11</td>\n",
       "      <td>78471746.57</td>\n",
       "      <td>83958872.44</td>\n",
       "    </tr>\n",
       "    <tr>\n",
       "      <th>4</th>\n",
       "      <td>Sorghum</td>\n",
       "      <td>All</td>\n",
       "      <td>1711485.04</td>\n",
       "      <td>1677486.33</td>\n",
       "      <td>1831600.45</td>\n",
       "      <td>1854710.93</td>\n",
       "      <td>1881970.73</td>\n",
       "      <td>1896389.29</td>\n",
       "      <td>36042619.65</td>\n",
       "      <td>38288701.03</td>\n",
       "      <td>43391342.61</td>\n",
       "      <td>43232997.52</td>\n",
       "      <td>47520956.04</td>\n",
       "      <td>51692525.40</td>\n",
       "    </tr>\n",
       "  </tbody>\n",
       "</table>\n",
       "</div>"
      ],
      "text/plain": [
       "      Crop Zone   area_2013   area_2014   area_2015   area_2016   area_2017  \\\n",
       "0     Teff  All  2730272.95  3016521.90  3016053.75  2866052.99  3017914.36   \n",
       "1   Barley  All  1018752.94  1019477.93   993918.89   944401.34   959273.36   \n",
       "2    Wheat  All  1627647.16  1605653.90  1663837.58  1664564.62  1696082.59   \n",
       "3    Maize  All  2013044.93  1994813.80  2110209.61  2111518.23  2135571.85   \n",
       "4  Sorghum  All  1711485.04  1677486.33  1831600.45  1854710.93  1881970.73   \n",
       "\n",
       "    area_2018   yield_2013   yield_2014   yield_2015   yield_2016  \\\n",
       "0  3023283.50  37652411.66  44186421.95  47506572.79  44713786.91   \n",
       "1   951993.15  17816522.08  19082624.11  19533847.83  18567042.76   \n",
       "2  1696907.05  34347061.22  39251741.35  42315887.16  42192572.23   \n",
       "3  2128948.91  61583175.95  64915402.92  72349551.02  71508354.11   \n",
       "4  1896389.29  36042619.65  38288701.03  43391342.61  43232997.52   \n",
       "\n",
       "    yield_2017   yield_2018  \n",
       "0  50204400.47  52834011.56  \n",
       "1  20249216.76  20529963.72  \n",
       "2  45378523.39  46429657.12  \n",
       "3  78471746.57  83958872.44  \n",
       "4  47520956.04  51692525.40  "
      ]
     },
     "execution_count": 44,
     "metadata": {},
     "output_type": "execute_result"
    }
   ],
   "source": [
    "actuals"
   ]
  },
  {
   "cell_type": "code",
   "execution_count": 45,
   "metadata": {},
   "outputs": [
    {
     "name": "stderr",
     "output_type": "stream",
     "text": [
      "/anaconda3/envs/p37/lib/python3.7/site-packages/ipykernel_launcher.py:3: SettingWithCopyWarning: \n",
      "A value is trying to be set on a copy of a slice from a DataFrame.\n",
      "Try using .loc[row_indexer,col_indexer] = value instead\n",
      "\n",
      "See the caveats in the documentation: http://pandas.pydata.org/pandas-docs/stable/indexing.html#indexing-view-versus-copy\n",
      "  This is separate from the ipykernel package so we can avoid doing imports until\n"
     ]
    }
   ],
   "source": [
    "y_ = ['2013','2014','2015','2016','2017','2018']\n",
    "for y in y_:\n",
    "    actuals[f'{y}'] = actuals[f'yield_{y}']/actuals[f'area_{y}']"
   ]
  },
  {
   "cell_type": "code",
   "execution_count": 46,
   "metadata": {},
   "outputs": [],
   "source": [
    "per_cols = [i for i in actuals.columns if i in y_]"
   ]
  },
  {
   "cell_type": "code",
   "execution_count": 47,
   "metadata": {},
   "outputs": [],
   "source": [
    "actuals = actuals[per_cols]"
   ]
  },
  {
   "cell_type": "code",
   "execution_count": 48,
   "metadata": {},
   "outputs": [],
   "source": [
    "actuals = actuals.transpose().reset_index().rename(columns={'index':'Year'})\n",
    "#actuals['Actuals'] = actuals[0]+actuals[1]+actuals[2]+actuals[3]+actuals[4]"
   ]
  },
  {
   "cell_type": "code",
   "execution_count": 49,
   "metadata": {},
   "outputs": [
    {
     "data": {
      "text/html": [
       "<div>\n",
       "<style scoped>\n",
       "    .dataframe tbody tr th:only-of-type {\n",
       "        vertical-align: middle;\n",
       "    }\n",
       "\n",
       "    .dataframe tbody tr th {\n",
       "        vertical-align: top;\n",
       "    }\n",
       "\n",
       "    .dataframe thead th {\n",
       "        text-align: right;\n",
       "    }\n",
       "</style>\n",
       "<table border=\"1\" class=\"dataframe\">\n",
       "  <thead>\n",
       "    <tr style=\"text-align: right;\">\n",
       "      <th></th>\n",
       "      <th>Year</th>\n",
       "      <th>0</th>\n",
       "      <th>1</th>\n",
       "      <th>2</th>\n",
       "      <th>3</th>\n",
       "      <th>4</th>\n",
       "    </tr>\n",
       "  </thead>\n",
       "  <tbody>\n",
       "    <tr>\n",
       "      <th>0</th>\n",
       "      <td>2013</td>\n",
       "      <td>13.790713</td>\n",
       "      <td>17.488560</td>\n",
       "      <td>21.102277</td>\n",
       "      <td>30.592052</td>\n",
       "      <td>21.059267</td>\n",
       "    </tr>\n",
       "    <tr>\n",
       "      <th>1</th>\n",
       "      <td>2014</td>\n",
       "      <td>14.648136</td>\n",
       "      <td>18.718036</td>\n",
       "      <td>24.445954</td>\n",
       "      <td>32.542086</td>\n",
       "      <td>22.825045</td>\n",
       "    </tr>\n",
       "    <tr>\n",
       "      <th>2</th>\n",
       "      <td>2015</td>\n",
       "      <td>15.751235</td>\n",
       "      <td>19.653362</td>\n",
       "      <td>25.432703</td>\n",
       "      <td>34.285481</td>\n",
       "      <td>23.690397</td>\n",
       "    </tr>\n",
       "    <tr>\n",
       "      <th>3</th>\n",
       "      <td>2016</td>\n",
       "      <td>15.601172</td>\n",
       "      <td>19.660119</td>\n",
       "      <td>25.347512</td>\n",
       "      <td>33.865847</td>\n",
       "      <td>23.309831</td>\n",
       "    </tr>\n",
       "    <tr>\n",
       "      <th>4</th>\n",
       "      <td>2017</td>\n",
       "      <td>16.635462</td>\n",
       "      <td>21.108912</td>\n",
       "      <td>26.754902</td>\n",
       "      <td>36.745074</td>\n",
       "      <td>25.250635</td>\n",
       "    </tr>\n",
       "    <tr>\n",
       "      <th>5</th>\n",
       "      <td>2018</td>\n",
       "      <td>17.475705</td>\n",
       "      <td>21.565243</td>\n",
       "      <td>27.361344</td>\n",
       "      <td>39.436772</td>\n",
       "      <td>27.258393</td>\n",
       "    </tr>\n",
       "  </tbody>\n",
       "</table>\n",
       "</div>"
      ],
      "text/plain": [
       "   Year          0          1          2          3          4\n",
       "0  2013  13.790713  17.488560  21.102277  30.592052  21.059267\n",
       "1  2014  14.648136  18.718036  24.445954  32.542086  22.825045\n",
       "2  2015  15.751235  19.653362  25.432703  34.285481  23.690397\n",
       "3  2016  15.601172  19.660119  25.347512  33.865847  23.309831\n",
       "4  2017  16.635462  21.108912  26.754902  36.745074  25.250635\n",
       "5  2018  17.475705  21.565243  27.361344  39.436772  27.258393"
      ]
     },
     "execution_count": 49,
     "metadata": {},
     "output_type": "execute_result"
    }
   ],
   "source": [
    "actuals"
   ]
  },
  {
   "cell_type": "code",
   "execution_count": 50,
   "metadata": {},
   "outputs": [],
   "source": [
    "if region == 'All':\n",
    "    cols_ = [0,1,2,3,4]\n",
    "elif region == 'Oromia':\n",
    "    cols_ = [5,6,7,8,9]\n",
    "elif region == 'Gambela':\n",
    "    cols_ = [10,11,12,13,14]\n",
    "    \n",
    "actuals['Actuals'] = actuals[cols_].mean(axis=1)"
   ]
  },
  {
   "cell_type": "code",
   "execution_count": 51,
   "metadata": {},
   "outputs": [],
   "source": [
    "actuals = actuals[actuals['Year'].isin(['2015','2016','2017','2018'])]"
   ]
  },
  {
   "cell_type": "code",
   "execution_count": 52,
   "metadata": {
    "scrolled": false
   },
   "outputs": [
    {
     "data": {
      "image/png": "[encoded data removed]",
      "text/plain": [
       "<Figure size 576x432 with 1 Axes>"
      ]
     },
     "metadata": {},
     "output_type": "display_data"
    }
   ],
   "source": [
    "plt = actuals.plot('Year','Actuals', kind='line', figsize=(8,6), title=f'Reported Mean Yield per Hectare (CSA) {region}')\n",
    "plt.figure.savefig(f'Actuals_{region}.png',dpi=180)"
   ]
  }
 ],
 "metadata": {
  "kernelspec": {
   "display_name": "Python 3",
   "language": "python",
   "name": "python3"
  },
  "language_info": {
   "codemirror_mode": {
    "name": "ipython",
    "version": 3
   },
   "file_extension": ".py",
   "mimetype": "text/x-python",
   "name": "python",
   "nbconvert_exporter": "python",
   "pygments_lexer": "ipython3",
   "version": "3.7.3"
  }
 },
 "nbformat": 4,
 "nbformat_minor": 2
}
