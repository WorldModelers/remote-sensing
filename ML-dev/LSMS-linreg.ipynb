{
 "cells": [
  {
   "cell_type": "markdown",
   "metadata": {},
   "source": [
    "# LSMS Linear Regression \n",
    "Predict farm-level yields using vegetation index measures."
   ]
  },
  {
   "cell_type": "code",
   "execution_count": 1,
   "metadata": {},
   "outputs": [],
   "source": [
    "import pandas as pd\n",
    "import statsmodels.api as sm"
   ]
  },
  {
   "cell_type": "code",
   "execution_count": 2,
   "metadata": {},
   "outputs": [],
   "source": [
    "df = pd.read_csv('Apr_2015_LSMS_VI_EE_Export - wm_export_test.csv')"
   ]
  },
  {
   "cell_type": "code",
   "execution_count": 3,
   "metadata": {},
   "outputs": [
    {
     "name": "stdout",
     "output_type": "stream",
     "text": [
      "There are 25496 observations prior to removing NAs\n"
     ]
    }
   ],
   "source": [
    "print(f\"There are {df.shape[0]} observations prior to removing NAs\")"
   ]
  },
  {
   "cell_type": "code",
   "execution_count": 4,
   "metadata": {},
   "outputs": [],
   "source": [
    "reg_vars = ['Quantity (kg)','NDVI_mean','NDVI_variance','TVI_mean','TVI_variance','mean_EVI']\n",
    "df = df[reg_vars]\n",
    "df = df.dropna()"
   ]
  },
  {
   "cell_type": "code",
   "execution_count": 5,
   "metadata": {},
   "outputs": [],
   "source": [
    "y = df[['Quantity (kg)']]\n",
    "x = df[['NDVI_mean','NDVI_variance','TVI_mean','TVI_variance','mean_EVI']]"
   ]
  },
  {
   "cell_type": "code",
   "execution_count": 6,
   "metadata": {},
   "outputs": [
    {
     "name": "stdout",
     "output_type": "stream",
     "text": [
      "There are 23683 observations after removing NAs\n"
     ]
    }
   ],
   "source": [
    "print(f\"There are {df.shape[0]} observations after removing NAs\")"
   ]
  },
  {
   "cell_type": "code",
   "execution_count": 7,
   "metadata": {},
   "outputs": [
    {
     "name": "stdout",
     "output_type": "stream",
     "text": [
      "                                 OLS Regression Results                                \n",
      "=======================================================================================\n",
      "Dep. Variable:          Quantity (kg)   R-squared (uncentered):                   0.241\n",
      "Model:                            OLS   Adj. R-squared (uncentered):              0.241\n",
      "Method:                 Least Squares   F-statistic:                              1505.\n",
      "Date:                Tue, 01 Oct 2019   Prob (F-statistic):                        0.00\n",
      "Time:                        14:17:08   Log-Likelihood:                     -1.5366e+05\n",
      "No. Observations:               23683   AIC:                                  3.073e+05\n",
      "Df Residuals:                   23678   BIC:                                  3.074e+05\n",
      "Df Model:                           5                                                  \n",
      "Covariance Type:            nonrobust                                                  \n",
      "=================================================================================\n",
      "                    coef    std err          t      P>|t|      [0.025      0.975]\n",
      "---------------------------------------------------------------------------------\n",
      "NDVI_mean       742.4511     25.000     29.698      0.000     693.449     791.453\n",
      "NDVI_variance   954.3888    349.496      2.731      0.006     269.353    1639.424\n",
      "TVI_mean        -22.4891      0.856    -26.277      0.000     -24.167     -20.812\n",
      "TVI_variance     -1.2148      0.314     -3.865      0.000      -1.831      -0.599\n",
      "mean_EVI       -103.6880     17.748     -5.842      0.000    -138.475     -68.901\n",
      "==============================================================================\n",
      "Omnibus:                    12969.869   Durbin-Watson:                   0.992\n",
      "Prob(Omnibus):                  0.000   Jarque-Bera (JB):            96811.125\n",
      "Skew:                           2.594   Prob(JB):                         0.00\n",
      "Kurtosis:                      11.437   Cond. No.                     3.85e+03\n",
      "==============================================================================\n",
      "\n",
      "Warnings:\n",
      "[1] Standard Errors assume that the covariance matrix of the errors is correctly specified.\n",
      "[2] The condition number is large, 3.85e+03. This might indicate that there are\n",
      "strong multicollinearity or other numerical problems.\n"
     ]
    }
   ],
   "source": [
    "mod = sm.OLS(y,x)\n",
    "\n",
    "res = mod.fit()\n",
    "\n",
    "print(res.summary())"
   ]
  }
 ],
 "metadata": {
  "kernelspec": {
   "display_name": "Python 3",
   "language": "python",
   "name": "python3"
  },
  "language_info": {
   "codemirror_mode": {
    "name": "ipython",
    "version": 3
   },
   "file_extension": ".py",
   "mimetype": "text/x-python",
   "name": "python",
   "nbconvert_exporter": "python",
   "pygments_lexer": "ipython3",
   "version": "3.7.3"
  }
 },
 "nbformat": 4,
 "nbformat_minor": 2
}
